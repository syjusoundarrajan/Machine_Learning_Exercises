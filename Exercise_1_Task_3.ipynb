{
 "cells": [
  {
   "cell_type": "markdown",
   "metadata": {},
   "source": [
    "## Task 3 - b\n",
    "The below cell is for Extracting the data from the iris data set\n",
    "and calculating the minimum, maximum and mean of the all four attributes\n",
    "\n",
    "Here i have taken 4(four attributes empty lists)*3(for 3 classes, setosa, virginica, versicolor) = 12 seperate lists\n",
    "And 3 another classes for the training data to pass in my LMS function below(see under cells)\n",
    "\n",
    "This cell gives output of all four attributes of each class min, max and mean\n",
    "and here i am converting my 'training_data(list) to set(np.array())'"
   ]
  },
  {
   "cell_type": "code",
   "execution_count": 7,
   "metadata": {},
   "outputs": [
    {
     "name": "stdout",
     "output_type": "stream",
     "text": [
      "                   petal_width  petal_length  sepal_width  sepal_length\n",
      "setosa max values     0.6         1.9           4.4          5.8\n",
      "setosa min values     0.1         1.0           2.3          4.3\n",
      "setosa mean values   0.244       1.464          3.418         5.006\n",
      "\n",
      "versicolor max values    1.8       5.1          3.4          7.0\n",
      "versicolor min values    1.0       3.0          2.0          4.9\n",
      "versicolor mean values   1.326     4.26        2.77        5.936\n",
      "\n",
      "virginica max values     2.5       6.9        3.8           7.9\n",
      "virginica min values     1.4        4.5        2.2           4.9\n",
      "virginica mean values     2.026      5.552    2.974       6.588\n"
     ]
    }
   ],
   "source": [
    "import numpy as np\n",
    "\n",
    "# extracting data\n",
    "file = open(\"iris.data\")\n",
    "# all 12 are seperate attribute lists\n",
    "setosa_petal_width = list()\n",
    "setosa_petal_length = list()\n",
    "setosa_sepal_width = list()\n",
    "setosa_sepal_length = list()\n",
    "versicolor_petal_width = list()\n",
    "versicolor_petal_length = list()\n",
    "versicolor_sepal_width = list()\n",
    "versicolor_sepal_length = list()\n",
    "virginica_petal_width = list()\n",
    "virginica_petal_length = list()\n",
    "virginica_sepal_width = list()\n",
    "virginica_sepal_length = list()\n",
    "\n",
    "# these are for plotting the setosa and virginica for the LMS algorithms, because passing these to the plot() function is difficult for me\n",
    "# there might be some another way, but i preffered this\n",
    "setosa = []\n",
    "virginica = []\n",
    "training_data = []\n",
    "\n",
    "# by using the for loop i am seperating the attributes data \n",
    "# for each line of the file, i am seperating the attributes based on its class name, see the condition i applied , i am checking it is \n",
    "# matching to respective class or not\n",
    "for line in file:\n",
    "    each = line.split(\",\")\n",
    "    if len(each) == 1:\n",
    "        break\n",
    "    if each[4] == 'Iris-setosa\\n':\n",
    "        setosa_petal_width.append(float(each[3]))\n",
    "        setosa_petal_length.append(float(each[2]))\n",
    "        setosa_sepal_width.append(float(each[1]))\n",
    "        setosa_sepal_length.append(float(each[0]))\n",
    "        setosa.append(-1)\n",
    "        set = [float(each[0]), -1]\n",
    "        training_data.append(set)\n",
    "    elif each[4] == 'Iris-versicolor\\n':\n",
    "        versicolor_petal_width.append(float(each[3]))\n",
    "        versicolor_petal_length.append(float(each[2]))\n",
    "        versicolor_sepal_width.append(float(each[1]))\n",
    "        versicolor_sepal_length.append(float(each[0]))\n",
    "    else:\n",
    "        virginica_petal_width.append(float(each[3]))\n",
    "        virginica_petal_length.append(float(each[2]))\n",
    "        virginica_sepal_width.append(float(each[1]))\n",
    "        virginica_sepal_length.append(float(each[0]))\n",
    "        virginica.append(1)\n",
    "        set = [float(each[0]), 1]\n",
    "        training_data.append(set)\n",
    "\n",
    "# In the following print statements, i am printing the min, max and mean of the all four attributes\n",
    "print('                ', '  petal_width',' petal_length',' sepal_width',' sepal_length')\n",
    "# this is for setosa class\n",
    "print('setosa max values','   ', max(setosa_petal_width),'       ' ,max(setosa_petal_length),'         ', max(setosa_sepal_width),'        ', max(setosa_sepal_length))\n",
    "print('setosa min values','   ', min(setosa_petal_width),'       ' , min(setosa_petal_length),'         ', min(setosa_sepal_width),'        ', min(setosa_sepal_length))\n",
    "print('setosa mean values',' ', round(sum(setosa_petal_width)/len(setosa_petal_width),3),'     ' , round(sum(setosa_petal_length)/len(setosa_petal_length),3), \n",
    "       '        ', round(sum(setosa_sepal_width)/len(setosa_sepal_width),3),'       ', round(sum(setosa_sepal_length)/len(setosa_sepal_length),3))\n",
    "print()\n",
    "\n",
    "#this is for versicolor class\n",
    "print('versicolor max values','  ', max(versicolor_petal_width),'     ' , max(versicolor_petal_length),'        ', max(versicolor_sepal_width),'        ', max(versicolor_sepal_length))\n",
    "print('versicolor min values','  ', min(versicolor_petal_width),'     ' , min(versicolor_petal_length),'        ', min(versicolor_sepal_width),'        ', min(versicolor_sepal_length))\n",
    "print('versicolor mean values',' ', round(sum(versicolor_petal_width)/len(versicolor_petal_width),3), '   ' ,round(sum(versicolor_petal_length)/len(versicolor_petal_length),3), \n",
    "        '      ',round(sum(versicolor_sepal_width)/len(versicolor_sepal_width),3),'      ', round(sum(versicolor_sepal_length)/len(versicolor_sepal_length),3))\n",
    "print()\n",
    "\n",
    "#this is for virginica classs\n",
    "print('virginica max values','   ', max(virginica_petal_width),'     ' , max(virginica_petal_length),'      ', max(virginica_sepal_width),'         ', max(virginica_sepal_length))\n",
    "print('virginica min values', '   ',min(virginica_petal_width),'      ' , min(virginica_petal_length),'      ', min(virginica_sepal_width), '         ',min(virginica_sepal_length))\n",
    "print('virginica mean values','   ', round(sum(virginica_petal_width)/len(virginica_petal_width),3),'    ' , round(sum(virginica_petal_length)/len(virginica_petal_length),3), \n",
    "       '  ', round(sum(virginica_sepal_width)/len(virginica_sepal_width),3),'     ', round(sum(virginica_sepal_length)/len(virginica_sepal_length),3))\n",
    "set = np.array(training_data)"
   ]
  },
  {
   "cell_type": "markdown",
   "metadata": {},
   "source": [
    "## solution for the task - 3 b\n",
    "\n",
    "based on the results , distinguishing setosa is easy compared to versicolor and virginica. See the sepal_width and sepal_length attributes of all three species have close relation but coming to the petal_width and petal_length, we can see the difference between setosa and remaining two classes. "
   ]
  },
  {
   "cell_type": "markdown",
   "metadata": {},
   "source": [
    "## Task - 3 c Scatter plot \n",
    " Here no logic , simply i am using all three classes petal_length and sepal_length attribute lists to draw the scatter plot\n",
    " see the figure , i have mentioned every thing clearly"
   ]
  },
  {
   "cell_type": "code",
   "execution_count": 8,
   "metadata": {},
   "outputs": [
    {
     "data": {
      "image/png": "[encoded data removed]",
      "text/plain": [
       "<Figure size 432x288 with 1 Axes>"
      ]
     },
     "metadata": {
      "needs_background": "light"
     },
     "output_type": "display_data"
    }
   ],
   "source": [
    "import matplotlib.pyplot as plt\n",
    "\n",
    "plt.scatter(setosa_petal_length, setosa_sepal_length, label='setosa', color = 'red')\n",
    "plt.scatter(versicolor_petal_length, versicolor_sepal_length, label='versicolor', color = 'blue')\n",
    "plt.scatter(virginica_petal_length, virginica_sepal_length, label='virginica', color = 'green')\n",
    "plt.xlabel('petal_length')\n",
    "plt.ylabel('sepal_length')\n",
    "plt.legend()\n",
    "plt.show()"
   ]
  },
  {
   "cell_type": "markdown",
   "metadata": {},
   "source": [
    "## Task - 3 c  LMS and RSS algorithms\n",
    "I have taken three seperate functions for the LMS , RSS computation and Curvefitting line\n",
    "\n",
    "Function - LMS :: \n",
    "                  1) is taking the training data, learning experience rate and number of iterations.\n",
    "                  2) for each iteration, it will choose one data point from the training data and compute the weight vector based on the algorithm.\n",
    "                  3) returns the weight vector at the end.\n",
    "\n",
    "Function - RSS :: \n",
    "                  1) it will take training data and weight vector to compute the residual sum of squares.\n",
    "                  2) returns the summation of the all residuals for the all x's  in the data set.\n",
    "\n",
    "Function - plot_set:: \n",
    "                       1) it will also take training data and weight vector. \n",
    "                       2) this is for plotting the line in the scatter plot between classes and sepal_length attribute.\n",
    "                       "
   ]
  },
  {
   "cell_type": "code",
   "execution_count": 9,
   "metadata": {},
   "outputs": [],
   "source": [
    "import random as rd\n",
    "\n",
    "# LMS algorithms , reference : professor slides\n",
    "def LMS(D,n, iterations):     # passing data set, learning rate, itereations\n",
    "    iter = 0\n",
    "    w = np.random.rand(1,2)\n",
    "    while(iter < iterations):         # looping till the completion of iterations number\n",
    "        set = rd.choice(D)            # randomly selecting the one data point from the data set\n",
    "        y = w[0][0] + w[0][1]*set[0]  #  y = w0 + w1* x  ----formula\n",
    "        error = set[1] - y            # calculating the error = c(x)(target function) - y(x)(model function)\n",
    "        delta_w = n*error*set[0]      # delta_w = n*error*x \n",
    "        w = w + delta_w               # w = w + delta_w\n",
    "        iter = iter + 1               # this for incrementing the iterations \n",
    "    return w                   # returning the weight vector\n",
    "\n",
    "\n",
    "# RSS computation\n",
    "def RSS(weight, D):                             # two arguments- data set and weight vector\n",
    "    rss = 0                                     # local variable for storing and aggregating the rss value\n",
    "    for x,c in D:                               # loop for each data point in the training data set\n",
    "        y = weight[0][0] + weight[0][1]*x       # y(x) = w0 + w1*x\n",
    "        rss = rss + (c - y)**2                  # RSS(w) = (c(x) - y(x))**2\n",
    "    return rss                  # returning the sum of squares of the residuals\n",
    "\n",
    "\n",
    "# this method is for  the line of fit x and y variable in seperate  lists and eliminating the ambiguity of recognizing the which sepal_length\n",
    "# belongs to either setosa or virginica\n",
    "def plot_set(weight, D):\n",
    "    plot_array_x = []\n",
    "    plot_array_y = []\n",
    "    for x,c in D:\n",
    "        y = weight[0][0] + weight[0][1]*x\n",
    "        plot_array_x.append(x)\n",
    "        plot_array_y.append(y)\n",
    "    return plot_array_x, plot_array_y     # return the two lists consisting the x(all sepal_length of setosa and virginica) and y(-1 and 1)    \n",
    "    \n",
    "    "
   ]
  },
  {
   "cell_type": "markdown",
   "metadata": {},
   "source": [
    "## plotting the task - 3 c using the matplotlib library\n"
   ]
  },
  {
   "cell_type": "code",
   "execution_count": 12,
   "metadata": {},
   "outputs": [
    {
     "data": {
      "image/png": "[encoded data removed]",
      "text/plain": [
       "<Figure size 432x288 with 1 Axes>"
      ]
     },
     "metadata": {
      "needs_background": "light"
     },
     "output_type": "display_data"
    },
    {
     "name": "stdout",
     "output_type": "stream",
     "text": [
      "92.68106461711001\n",
      "[[-0.21390459  0.06324533]]\n"
     ]
    }
   ],
   "source": [
    "import matplotlib.pyplot as plt\n",
    "\n",
    "\n",
    "plt.scatter(setosa_sepal_length, setosa, label = \"setosa\",marker = \"*\", color = \"red\")\n",
    "plt.scatter(virginica_sepal_length, virginica, label = \"virginica\", marker = \"*\", color = \"green\")\n",
    "weight = LMS(set,0.01,10000)\n",
    "rss = RSS(weight,set)\n",
    "x,y = plot_set(weight,set)\n",
    "plt.plot(x,y, color =\"blue\")\n",
    "plt.xlabel(\"sepal_length\")\n",
    "plt.ylabel(\"setosa = -1, virginica = 1\")\n",
    "plt.legend()\n",
    "plt.show()\n",
    "print(rss)\n",
    "print(weight)\n"
   ]
  },
  {
   "cell_type": "markdown",
   "metadata": {},
   "source": [
    "## Task 2 - d scatter plot of the car data "
   ]
  },
  {
   "cell_type": "code",
   "execution_count": 11,
   "metadata": {},
   "outputs": [
    {
     "data": {
      "image/png": "[encoded data removed]",
      "text/plain": [
       "<Figure size 432x288 with 1 Axes>"
      ]
     },
     "metadata": {
      "needs_background": "light"
     },
     "output_type": "display_data"
    }
   ],
   "source": [
    "import matplotlib.pyplot as plt\n",
    "\n",
    "x1 = [5,7,15,28]\n",
    "#x2 = [30530,90000,159899,270564]\n",
    "c = [50,79,124,300]\n",
    "y = [45.611,66.783,151.471,289.089]\n",
    "\n",
    "plt.scatter(x1,c, label=\"age\", color = \"red\")\n",
    "#plt.scatter(x2,c, label=\"mileage\", color = \"blue\")\n",
    "plt.plot(x1,y, color = \"green\")\n",
    "plt.xlabel(\"Age\")\n",
    "plt.ylabel(\"Stopping Distance\")\n",
    "plt.legend()\n",
    "plt.show()\n"
   ]
  },
  {
   "cell_type": "code",
   "execution_count": null,
   "metadata": {},
   "outputs": [],
   "source": []
  }
 ],
 "metadata": {
  "kernelspec": {
   "display_name": "Python 3",
   "language": "python",
   "name": "python3"
  },
  "language_info": {
   "codemirror_mode": {
    "name": "ipython",
    "version": 3
   },
   "file_extension": ".py",
   "mimetype": "text/x-python",
   "name": "python",
   "nbconvert_exporter": "python",
   "pygments_lexer": "ipython3",
   "version": "3.7.3"
  }
 },
 "nbformat": 4,
 "nbformat_minor": 4
}
