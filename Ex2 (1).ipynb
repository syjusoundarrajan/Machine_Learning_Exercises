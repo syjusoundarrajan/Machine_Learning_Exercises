{
 "cells": [
  {
   "cell_type": "code",
   "execution_count": 15,
   "metadata": {},
   "outputs": [],
   "source": [
    "def g_0(n):\n",
    "    return (\"?\",) * n\n",
    "def s_0(n):\n",
    "    return (\"T\",) * n \n",
    "# NOTE: feel free to use a different symbol\n",
    "# in case of encoding issues"
   ]
  },
  {
   "cell_type": "code",
   "execution_count": 16,
   "metadata": {},
   "outputs": [],
   "source": [
    "def more_general(h1, h2):\n",
    "    \"\"\"\n",
    "    >>> more_general((\"sunny\", \"warm\", \"?\"), (\"sunny\", \"?\", \"normal\"))\n",
    "    False\n",
    "    \n",
    "    \"\"\"\n",
    "    # Check if a is more general than b\n",
    "    # else return False\n",
    "    result = [True if a == \"?\" or a == b or b == \"T\" else False for a,b in zip(h1, h2)]\n",
    "    for a in result:\n",
    "        if a is not True:\n",
    "            return a\n",
    "    return True"
   ]
  },
  {
   "cell_type": "code",
   "execution_count": 17,
   "metadata": {},
   "outputs": [],
   "source": [
    "def min_generalizations(h, x):\n",
    "    \"\"\"\n",
    "    >>> min_generalizations(h=(\"sunny\", \"warm\"), x=(\"rainy\", \"warm\"))\n",
    "    [('?', 'warm')]\n",
    "    \n",
    "    \"\"\"\n",
    "    # Switch attribute value to Wild card if contradict\n",
    "    result = [\"?\" if a != \"T\" and a != b  else b for a,b in zip(h, x)]\n",
    "    return [tuple(result)]"
   ]
  },
  {
   "cell_type": "code",
   "execution_count": 20,
   "metadata": {},
   "outputs": [],
   "source": [
    "def min_specializations(h, domains, x):\n",
    "    \"\"\"\n",
    "    >>> g = ('sunny', '?', '?', '?', '?', '?', '?')\n",
    "    >>> d = [['sunny', 'rainy', 'cloudy'],['warm', 'cold'],['normal', 'high'],['strong', 'weak'],['warm', 'cool'],['same', 'change'],['long', 'medium', 'short']]\n",
    "    >>> x = ('sunny',  'warm', 'high', 'strong', 'cool', 'change', 'long')\n",
    "    >>> min_specializations(g, d, x)\n",
    "    [('T', '?', '?', '?', '?', '?', '?'), ('sunny', 'cold', '?', '?', '?', '?', '?'), ('sunny', '?', 'normal', '?', '?', '?', '?'), ('sunny', '?', '?', 'weak', '?', '?', '?'), ('sunny', '?', '?', '?', 'warm', '?', '?'), ('sunny', '?', '?', '?', '?', 'same', '?'), ('sunny', '?', '?', '?', '?', '?', 'medium'), ('sunny', '?', '?', '?', '?', '?', 'short')]\n",
    "     \n",
    "    >>> min_specializations(h=(\"?\", \"x\"), domains=[[\"a\", \"b\", \"c\"], [\"x\", \"y\"]], x=(\"b\", \"x\"))\n",
    "    [('a', 'x'), ('c', 'x'), ('?', 'T')]\n",
    "    \n",
    "    \"\"\"\n",
    "    \n",
    "    # create more specialise hypothesis using domian\n",
    "    result = []\n",
    "    h = list(h)\n",
    "    for i in range(len(h)):\n",
    "        if h[i] == \"?\":\n",
    "            for a in domains[i]:\n",
    "                if a != x[i]:\n",
    "                    h_new = h.copy()\n",
    "                    h_new[i] = a\n",
    "                    result.append(tuple(h_new))\n",
    "        elif h[i] == x[i]:\n",
    "            h_new = h.copy()\n",
    "            h_new[i] = \"T\"\n",
    "            result.append(tuple(h_new))\n",
    "    return result"
   ]
  },
  {
   "cell_type": "code",
   "execution_count": 21,
   "metadata": {},
   "outputs": [
    {
     "data": {
      "text/plain": [
       "TestResults(failed=0, attempted=7)"
      ]
     },
     "execution_count": 21,
     "metadata": {},
     "output_type": "execute_result"
    }
   ],
   "source": [
    "import doctest\n",
    "doctest.testmod()"
   ]
  },
  {
   "cell_type": "code",
   "execution_count": 6,
   "metadata": {},
   "outputs": [
    {
     "name": "stdout",
     "output_type": "stream",
     "text": [
      "      Sky  Temp   Humid    Wind Water Forecast   Sleep  EnjoySport\n",
      "0   sunny  warm  normal  strong  warm     same    long        True\n",
      "1   sunny  warm    high  strong  warm     same    long        True\n",
      "2   rainy  cold    high    weak  warm   change  medium       False\n",
      "3   sunny  warm    high  strong  cool   change    long        True\n",
      "4  cloudy  cold    high  strong  cool   change   short       False\n"
     ]
    }
   ],
   "source": [
    "from io import StringIO\n",
    "import pandas as pd\n",
    "\n",
    "# create table of examples\n",
    "examples = pd.read_csv( StringIO(\"\"\"Sky,Temp,Humid,Wind,Water,Forecast,Sleep,EnjoySport\n",
    "sunny,warm,normal,strong,warm,same,long,True\n",
    "sunny,warm,high,strong,warm,same,long,True\n",
    "rainy,cold,high,weak,warm,change,medium,False \n",
    "sunny,warm,high,strong,cool,change,long,True\n",
    "cloudy,cold,high,strong,cool,change,short,False\"\"\"),converters={'EnjoySport': lambda x: x=='True'})\n",
    "\n",
    "print(examples)"
   ]
  },
  {
   "cell_type": "code",
   "execution_count": 22,
   "metadata": {},
   "outputs": [],
   "source": [
    "def consistent(h,x):\n",
    "    \"\"\"\n",
    "    >>>consistent((\"sunny\", \"warm\", \"?\"), (\"sunny\", \"warm\", \"normal\"))\n",
    "    True\n",
    "    >>>consistent((\"sunny\", \"warm\", \"T\"), (\"sunny\", \"warm\", \"normal\"))\n",
    "    False\n",
    "    >>>consistent((\"sunny\", \"warm\", \"high\"), (\"sunny\", \"warm\", \"normal\"))\n",
    "    False\n",
    "    \n",
    "    \"\"\"\n",
    "    result = [True if a == \"?\" or (a == b and b != \"T\") else False for a,b in zip(h,x)]\n",
    "    for a in result:\n",
    "        if a is not True:\n",
    "            return a\n",
    "    return True"
   ]
  },
  {
   "cell_type": "code",
   "execution_count": 24,
   "metadata": {},
   "outputs": [],
   "source": [
    "def setDomains(examples):\n",
    "    \"\"\"\n",
    "    >>>setDomains(examples.T[:-1].T.values)\n",
    "    [['sunny', 'rainy', 'cloudy'], ['warm', 'cold'], ['normal', 'high'], ['strong', 'weak'], ['warm', 'cool'], ['same', 'change'], ['long', 'medium', 'short']]\n",
    " \n",
    "    \"\"\"\n",
    "    # Filter the unique attribute value\n",
    "    domains = [[i] for i in examples[0]]\n",
    "    for x in examples:\n",
    "        for i in range(len(x)):\n",
    "            add = None\n",
    "            for j in domains[i]:\n",
    "                if j == x[i]:\n",
    "                    add = None\n",
    "                    break\n",
    "                else:\n",
    "                    add = x[i]\n",
    "            if add is not None:\n",
    "                domains[i].append(x[i])            \n",
    "    return domains"
   ]
  },
  {
   "cell_type": "code",
   "execution_count": 31,
   "metadata": {},
   "outputs": [],
   "source": [
    "def candidate_elimination(examples):\n",
    "    # Filter out domain from examples\n",
    "    domains = setDomains(examples.T[:-1].T)\n",
    "    \n",
    "    # Define most general and specific case \n",
    "    n = len(domains)\n",
    "    G = [g_0(n)]\n",
    "    S = [s_0(n)]\n",
    "    \n",
    "    for x in examples:\n",
    "        \n",
    "        #  x[-1] extract the target value\n",
    "        if x[-1]:\n",
    "            x = x[:-1]\n",
    "            \n",
    "            # Remove out any hypothesis is not consistent \n",
    "            for g in G:\n",
    "                if not consistent(g,x):\n",
    "                    G.remove(g)\n",
    "            for s in S:\n",
    "                if not consistent(s,x):\n",
    "                    S.remove(s)\n",
    "                S_new = min_generalizations(s,x)\n",
    "                for s_new in S_new:\n",
    "                    result = True\n",
    "                    for g in G:\n",
    "                        if not more_general(g, s_new):\n",
    "                            result = False\n",
    "                            break\n",
    "                    if consistent(s_new,x) and result:\n",
    "                        S.append(s_new)\n",
    "                S_remove = []\n",
    "            for s in S:\n",
    "                S_diff = S.copy()\n",
    "                S_diff.remove(s)\n",
    "                    \n",
    "                for s_diff in S_diff:\n",
    "                    if more_general(s, s_diff):\n",
    "                        S_remove.append(s)\n",
    "                        break\n",
    "            for s_remove in S_remove:\n",
    "                S.remove(s_remove)\n",
    "                    \n",
    "        else:\n",
    "            #  x[-1] extract the target value\n",
    "            x = x[:-1]\n",
    "            \n",
    "            # Remove out any hypothesis is not consistent \n",
    "            for s in S:\n",
    "                if consistent(s,x):\n",
    "                    S.remove(s)\n",
    "                    \n",
    "            # Remove out any hypothesis is not consistent\n",
    "            # minimumum specialise the previous hypothesis \n",
    "            for g in G:\n",
    "                if consistent(g,x):\n",
    "                    G.remove(g)\n",
    "                    G_new = min_specializations(g, domains, x)\n",
    "                    for g_new in G_new:\n",
    "                        result = True\n",
    "                        \n",
    "                        # Validate new hypothesis\n",
    "                        if not consistent(g_new,x):\n",
    "                            for s in S:\n",
    "                                if not more_general(g_new,s):\n",
    "                                    result = False\n",
    "                                    break\n",
    "                        if result:\n",
    "                            G.append(g_new)\n",
    "                G_remove = []\n",
    "            for g in G:\n",
    "                G_diff = G.copy()\n",
    "                G_diff.remove(g)\n",
    "                    \n",
    "                for g_diff in G_diff:\n",
    "                    if more_general(g, g_diff):\n",
    "                        G_remove.append(g)\n",
    "                        break\n",
    "            for g_remove in G_remove:\n",
    "                G.remove(g_remove) \n",
    "    \n",
    "        print(\"G: \", G)\n",
    "        print(\"S: \", S)\n",
    "        print()\n",
    "                    \n",
    "    return G, S"
   ]
  },
  {
   "cell_type": "code",
   "execution_count": 32,
   "metadata": {},
   "outputs": [
    {
     "name": "stdout",
     "output_type": "stream",
     "text": [
      "G:  [('?', '?', '?', '?', '?', '?', '?')]\n",
      "S:  [('sunny', 'warm', 'normal', 'strong', 'warm', 'same', 'long')]\n",
      "\n",
      "G:  [('?', '?', '?', '?', '?', '?', '?')]\n",
      "S:  [('sunny', 'warm', '?', 'strong', 'warm', 'same', 'long')]\n",
      "\n",
      "G:  [('sunny', '?', '?', '?', '?', '?', '?'), ('?', 'warm', '?', '?', '?', '?', '?'), ('?', '?', '?', 'strong', '?', '?', '?'), ('?', '?', '?', '?', '?', 'same', '?'), ('?', '?', '?', '?', '?', '?', 'long')]\n",
      "S:  [('sunny', 'warm', '?', 'strong', 'warm', 'same', 'long')]\n",
      "\n",
      "G:  [('sunny', '?', '?', '?', '?', '?', '?'), ('?', 'warm', '?', '?', '?', '?', '?'), ('?', '?', '?', 'strong', '?', '?', '?'), ('?', '?', '?', '?', '?', '?', 'long')]\n",
      "S:  [('sunny', 'warm', '?', 'strong', '?', '?', 'long')]\n",
      "\n",
      "G:  [('sunny', '?', '?', 'strong', '?', '?', '?'), ('?', 'warm', '?', 'strong', '?', '?', '?'), ('?', '?', '?', 'strong', '?', '?', 'long')]\n",
      "S:  [('sunny', 'warm', '?', 'strong', '?', '?', 'long')]\n",
      "\n"
     ]
    }
   ],
   "source": [
    "G,S = candidate_elimination(examples.values)"
   ]
  },
  {
   "cell_type": "code",
   "execution_count": 33,
   "metadata": {},
   "outputs": [],
   "source": [
    "def relax(h1, h2):\n",
    "    # Try relax from S space to identify more hypotheis between G and S space\n",
    "    h1 = list(h1)\n",
    "    h2 = list(h2)\n",
    "    result = []\n",
    "    for i in range(len(h1)):\n",
    "        if h1[i] == \"?\"  and h2[i] != \"?\":\n",
    "            h_new = h1.copy()\n",
    "            h_new[i] = h2[i]\n",
    "            result.append(tuple(h_new))\n",
    "    return result"
   ]
  },
  {
   "cell_type": "code",
   "execution_count": 34,
   "metadata": {},
   "outputs": [],
   "source": [
    "def match(h1, h2):\n",
    "    result = [True if a == b else False for a,b in zip(h1,h2)]\n",
    "    for a in result:\n",
    "        if a is not True:\n",
    "            return a\n",
    "    return True"
   ]
  },
  {
   "cell_type": "code",
   "execution_count": 35,
   "metadata": {},
   "outputs": [],
   "source": [
    "def ver_space(G,S):\n",
    "    \n",
    "    # Collect all possible hypothesis between G and S pace\n",
    "    VS = []\n",
    "    for g in G:\n",
    "        for s in S:\n",
    "            Result = relax(g, s)\n",
    "            for result in Result:\n",
    "                add = False\n",
    "                if len(VS) > 0:\n",
    "                    for vs in VS:\n",
    "                        if match(result, vs):\n",
    "                            add = False\n",
    "                            break\n",
    "                        else:\n",
    "                            add = True\n",
    "                else:\n",
    "                    VS.append(result)\n",
    "                if add:\n",
    "                    VS.append(result)\n",
    "    VS.extend(G)\n",
    "    VS.extend(S)\n",
    "    return VS"
   ]
  },
  {
   "cell_type": "code",
   "execution_count": 36,
   "metadata": {},
   "outputs": [],
   "source": [
    "VS = ver_space(G,S)"
   ]
  },
  {
   "cell_type": "code",
   "execution_count": 37,
   "metadata": {},
   "outputs": [],
   "source": [
    "def check(examples, VS):\n",
    "    check=[]\n",
    "    \n",
    "    # Validate if version space can match with Ground Truth\n",
    "    for x in examples:\n",
    "        if x[-1]:\n",
    "            result = sum([consistent(h,x[:-1]) for h in VS])\n",
    "            check.append(result)\n",
    "        else:\n",
    "            result = sum([not consistent(h,x[:-1]) for h in VS])\n",
    "            check.append(result)\n",
    "    return check"
   ]
  },
  {
   "cell_type": "code",
   "execution_count": 38,
   "metadata": {},
   "outputs": [
    {
     "name": "stdout",
     "output_type": "stream",
     "text": [
      "      Sky  Temp   Humid    Wind Water Forecast   Sleep  EnjoySport  \\\n",
      "0   sunny  warm  normal  strong  warm     same    long        True   \n",
      "1   sunny  warm    high  strong  warm     same    long        True   \n",
      "2   rainy  cold    high    weak  warm   change  medium       False   \n",
      "3   sunny  warm    high  strong  cool   change    long        True   \n",
      "4  cloudy  cold    high  strong  cool   change   short       False   \n",
      "\n",
      "   score h in VS  \n",
      "0              7  \n",
      "1              7  \n",
      "2              7  \n",
      "3              7  \n",
      "4              7  \n"
     ]
    }
   ],
   "source": [
    "examples['score h in VS'] = check(examples.values, VS)\n",
    "print(examples)"
   ]
  },
  {
   "cell_type": "code",
   "execution_count": null,
   "metadata": {},
   "outputs": [],
   "source": []
  }
 ],
 "metadata": {
  "kernelspec": {
   "display_name": "Python 3",
   "language": "python",
   "name": "python3"
  },
  "language_info": {
   "codemirror_mode": {
    "name": "ipython",
    "version": 3
   },
   "file_extension": ".py",
   "mimetype": "text/x-python",
   "name": "python",
   "nbconvert_exporter": "python",
   "pygments_lexer": "ipython3",
   "version": "3.7.3"
  }
 },
 "nbformat": 4,
 "nbformat_minor": 4
}
